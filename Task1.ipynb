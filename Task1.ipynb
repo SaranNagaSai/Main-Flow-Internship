{
 "cells": [
  {
   "cell_type": "code",
   "execution_count": 1,
   "id": "d16dd060-21f0-49af-92aa-ad77c1470032",
   "metadata": {},
   "outputs": [
    {
     "name": "stdout",
     "output_type": "stream",
     "text": [
      "[1, 2, 3, 4, 5, 6]\n"
     ]
    }
   ],
   "source": [
    "#Creating a list\n",
    "l=[1,2,3,4,5,6]\n",
    "print(l)"
   ]
  },
  {
   "cell_type": "code",
   "execution_count": 2,
   "id": "972ad257-8c02-4fb1-b04d-7bb814f34ccd",
   "metadata": {},
   "outputs": [
    {
     "name": "stdout",
     "output_type": "stream",
     "text": [
      "[1, 2, 3, 4, 5, 6, 10]\n"
     ]
    }
   ],
   "source": [
    "#appending\n",
    "l.append(10)\n",
    "print(l)"
   ]
  },
  {
   "cell_type": "code",
   "execution_count": 3,
   "id": "df0648b6-3cc3-48f1-91d1-9d20a11f224b",
   "metadata": {},
   "outputs": [
    {
     "name": "stdout",
     "output_type": "stream",
     "text": [
      "[20, 2, 3, 4, 5, 6, 10]\n"
     ]
    }
   ],
   "source": [
    "#modify\n",
    "l[0]=20\n",
    "print(l)"
   ]
  },
  {
   "cell_type": "code",
   "execution_count": 4,
   "id": "83d9f090-faf0-4cac-b79d-732b12061fa5",
   "metadata": {},
   "outputs": [
    {
     "name": "stdout",
     "output_type": "stream",
     "text": [
      "[20, 2, 3, 4, 6, 10]\n"
     ]
    }
   ],
   "source": [
    "#Removing\n",
    "l.remove(5)\n",
    "print(l)\n"
   ]
  },
  {
   "cell_type": "code",
   "execution_count": 5,
   "id": "33ee47ad-851c-4f69-b22b-f4b1b0ea797d",
   "metadata": {},
   "outputs": [
    {
     "name": "stdout",
     "output_type": "stream",
     "text": [
      "{'name': 'Saran', 'age': 20, 'city': 'Gudivada'}\n"
     ]
    }
   ],
   "source": [
    "#Creating a Dictionary\n",
    "my_dic={'name':'Saran','age':20,'city':'Gudivada'}\n",
    "print(my_dic)"
   ]
  },
  {
   "cell_type": "code",
   "execution_count": 6,
   "id": "c6fad709-26dc-41dc-9a99-5e5d6cd708e5",
   "metadata": {},
   "outputs": [
    {
     "name": "stdout",
     "output_type": "stream",
     "text": [
      "{'name': 'Saran', 'age': 20, 'city': 'Gudivada', 'Gender': 'Male'}\n"
     ]
    }
   ],
   "source": [
    "#Adding an element\n",
    "my_dic['Gender']='Male'\n",
    "print(my_dic)\n"
   ]
  },
  {
   "cell_type": "code",
   "execution_count": 7,
   "id": "2dd5d417-50b6-477c-a356-519eb999f58a",
   "metadata": {},
   "outputs": [
    {
     "name": "stdout",
     "output_type": "stream",
     "text": [
      "{'name': 'Saran', 'city': 'Gudivada', 'Gender': 'Male'}\n"
     ]
    }
   ],
   "source": [
    "#Removing an element\n",
    "del my_dic['age']\n",
    "print(my_dic)\n"
   ]
  },
  {
   "cell_type": "code",
   "execution_count": 8,
   "id": "c2085f68-0d04-44b6-a5ee-7e36638676e0",
   "metadata": {},
   "outputs": [
    {
     "name": "stdout",
     "output_type": "stream",
     "text": [
      "{'name': 'Saran', 'city': 'Hyderabad', 'Gender': 'Male'}\n"
     ]
    }
   ],
   "source": [
    "#modifying\n",
    "my_dic['city']='Hyderabad'\n",
    "print(my_dic)"
   ]
  },
  {
   "cell_type": "code",
   "execution_count": 10,
   "id": "1d9c7a3f-19fc-49ad-95f9-98a9675cb2ca",
   "metadata": {},
   "outputs": [
    {
     "name": "stdout",
     "output_type": "stream",
     "text": [
      "{1, 2, 3, 4, 5}\n"
     ]
    }
   ],
   "source": [
    "#Creating a Set\n",
    "my_set={1,2,3,4,5}\n",
    "print(my_set)"
   ]
  },
  {
   "cell_type": "code",
   "execution_count": 12,
   "id": "3999b441-aaef-4489-a05a-d4eee165e621",
   "metadata": {},
   "outputs": [
    {
     "name": "stdout",
     "output_type": "stream",
     "text": [
      "{1, 2, 3, 4, 5, 6}\n",
      "{1, 2, 4, 5, 6}\n"
     ]
    }
   ],
   "source": [
    "#Adding an Element\n",
    "my_set.add(6)\n",
    "print(my_set)\n",
    "#Removing an Element\n",
    "my_set.remove(3)\n",
    "print(my_set)"
   ]
  },
  {
   "cell_type": "code",
   "execution_count": 13,
   "id": "3f7063a5-b7f9-4359-83d6-87f89ff75a9d",
   "metadata": {},
   "outputs": [
    {
     "name": "stdout",
     "output_type": "stream",
     "text": [
      "{2, 4, 5, 6, 10}\n"
     ]
    }
   ],
   "source": [
    "#modify\n",
    "my_set.discard(1)\n",
    "my_set.add(10)\n",
    "print(my_set)"
   ]
  },
  {
   "cell_type": "code",
   "execution_count": null,
   "id": "b35e29c8-e585-4342-a82a-6f0c92e4c8d9",
   "metadata": {},
   "outputs": [],
   "source": []
  }
 ],
 "metadata": {
  "kernelspec": {
   "display_name": "Python 3 (ipykernel)",
   "language": "python",
   "name": "python3"
  },
  "language_info": {
   "codemirror_mode": {
    "name": "ipython",
    "version": 3
   },
   "file_extension": ".py",
   "mimetype": "text/x-python",
   "name": "python",
   "nbconvert_exporter": "python",
   "pygments_lexer": "ipython3",
   "version": "3.12.3"
  }
 },
 "nbformat": 4,
 "nbformat_minor": 5
}
